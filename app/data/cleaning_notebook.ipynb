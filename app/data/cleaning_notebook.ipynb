{
 "cells": [
  {
   "cell_type": "code",
   "execution_count": 3,
   "id": "acf61034-b9f3-4335-8996-7b20dd3ebd03",
   "metadata": {},
   "outputs": [],
   "source": [
    "import pandas as pd\n",
    "import re\n",
    "from datetime import datetime\n",
    "import json"
   ]
  },
  {
   "cell_type": "markdown",
   "id": "08f1f68a-095a-45b2-9c25-aeeb5110d7fd",
   "metadata": {},
   "source": [
    "## Quick overview"
   ]
  },
  {
   "cell_type": "code",
   "execution_count": 5,
   "id": "c382364a-8931-4256-879d-7f3e5becb811",
   "metadata": {},
   "outputs": [],
   "source": [
    "df = pd.read_csv('app/data/raw_messages.csv')"
   ]
  },
  {
   "cell_type": "code",
   "execution_count": 6,
   "id": "f1e6740d-6179-4aa1-bfef-59cb11c24f6c",
   "metadata": {},
   "outputs": [
    {
     "data": {
      "text/plain": [
       "Index(['device_id', 'datetime', 'address_ip', 'address_port',\n",
       "       'original_message_id', 'raw_message'],\n",
       "      dtype='object')"
      ]
     },
     "execution_count": 6,
     "metadata": {},
     "output_type": "execute_result"
    }
   ],
   "source": [
    "df.columns"
   ]
  },
  {
   "cell_type": "code",
   "execution_count": 7,
   "id": "08ef6713-9479-48ee-9221-3aae39fba956",
   "metadata": {},
   "outputs": [
    {
     "data": {
      "text/plain": [
       "device_id              object\n",
       "datetime                int64\n",
       "address_ip             object\n",
       "address_port            int64\n",
       "original_message_id    object\n",
       "raw_message            object\n",
       "dtype: object"
      ]
     },
     "execution_count": 7,
     "metadata": {},
     "output_type": "execute_result"
    }
   ],
   "source": [
    "df.dtypes"
   ]
  },
  {
   "cell_type": "code",
   "execution_count": 8,
   "id": "99860d51-f12b-4fe7-9371-a9726d45bb4c",
   "metadata": {},
   "outputs": [
    {
     "data": {
      "text/html": [
       "<div>\n",
       "<style scoped>\n",
       "    .dataframe tbody tr th:only-of-type {\n",
       "        vertical-align: middle;\n",
       "    }\n",
       "\n",
       "    .dataframe tbody tr th {\n",
       "        vertical-align: top;\n",
       "    }\n",
       "\n",
       "    .dataframe thead th {\n",
       "        text-align: right;\n",
       "    }\n",
       "</style>\n",
       "<table border=\"1\" class=\"dataframe\">\n",
       "  <thead>\n",
       "    <tr style=\"text-align: right;\">\n",
       "      <th></th>\n",
       "      <th>device_id</th>\n",
       "      <th>datetime</th>\n",
       "      <th>address_ip</th>\n",
       "      <th>address_port</th>\n",
       "      <th>original_message_id</th>\n",
       "      <th>raw_message</th>\n",
       "    </tr>\n",
       "  </thead>\n",
       "  <tbody>\n",
       "    <tr>\n",
       "      <th>0</th>\n",
       "      <td>0001</td>\n",
       "      <td>1550066999</td>\n",
       "      <td>172.19.0.17</td>\n",
       "      <td>4007</td>\n",
       "      <td>1550070599576-0</td>\n",
       "      <td>A,51.31830816666667,N,4.315722166666666,E,0.0,...</td>\n",
       "    </tr>\n",
       "    <tr>\n",
       "      <th>1</th>\n",
       "      <td>0001</td>\n",
       "      <td>1550067661</td>\n",
       "      <td>172.19.0.16</td>\n",
       "      <td>4007</td>\n",
       "      <td>1550071261429-0</td>\n",
       "      <td>A,51.31830816666667,N,4.315722166666666,E,0.0,...</td>\n",
       "    </tr>\n",
       "    <tr>\n",
       "      <th>2</th>\n",
       "      <td>0001</td>\n",
       "      <td>1550067048</td>\n",
       "      <td>172.19.0.17</td>\n",
       "      <td>4007</td>\n",
       "      <td>1550070648974-0</td>\n",
       "      <td>A,51.3183085,N,4.315720833333334,E,0.0,5.25,15...</td>\n",
       "    </tr>\n",
       "    <tr>\n",
       "      <th>3</th>\n",
       "      <td>0001</td>\n",
       "      <td>1550069034</td>\n",
       "      <td>172.19.0.16</td>\n",
       "      <td>4007</td>\n",
       "      <td>1550072634730-0</td>\n",
       "      <td>A,51.3183085,N,4.315720833333334,E,0.0,5.25,15...</td>\n",
       "    </tr>\n",
       "    <tr>\n",
       "      <th>4</th>\n",
       "      <td>0001</td>\n",
       "      <td>1550069696</td>\n",
       "      <td>172.19.0.16</td>\n",
       "      <td>4007</td>\n",
       "      <td>1550073296534-0</td>\n",
       "      <td>A,5$1.31%83085,N&amp;,4.3@15*720833333334@,E,0.0,5...</td>\n",
       "    </tr>\n",
       "  </tbody>\n",
       "</table>\n",
       "</div>"
      ],
      "text/plain": [
       "  device_id    datetime   address_ip  address_port original_message_id  \\\n",
       "0      0001  1550066999  172.19.0.17          4007     1550070599576-0   \n",
       "1      0001  1550067661  172.19.0.16          4007     1550071261429-0   \n",
       "2      0001  1550067048  172.19.0.17          4007     1550070648974-0   \n",
       "3      0001  1550069034  172.19.0.16          4007     1550072634730-0   \n",
       "4      0001  1550069696  172.19.0.16          4007     1550073296534-0   \n",
       "\n",
       "                                         raw_message  \n",
       "0  A,51.31830816666667,N,4.315722166666666,E,0.0,...  \n",
       "1  A,51.31830816666667,N,4.315722166666666,E,0.0,...  \n",
       "2  A,51.3183085,N,4.315720833333334,E,0.0,5.25,15...  \n",
       "3  A,51.3183085,N,4.315720833333334,E,0.0,5.25,15...  \n",
       "4  A,5$1.31%83085,N&,4.3@15*720833333334@,E,0.0,5...  "
      ]
     },
     "execution_count": 8,
     "metadata": {},
     "output_type": "execute_result"
    }
   ],
   "source": [
    "df.head()"
   ]
  },
  {
   "cell_type": "code",
   "execution_count": 9,
   "id": "9ea57fc8-576c-45a4-af35-6e02d0257a93",
   "metadata": {},
   "outputs": [
    {
     "data": {
      "text/html": [
       "<div>\n",
       "<style scoped>\n",
       "    .dataframe tbody tr th:only-of-type {\n",
       "        vertical-align: middle;\n",
       "    }\n",
       "\n",
       "    .dataframe tbody tr th {\n",
       "        vertical-align: top;\n",
       "    }\n",
       "\n",
       "    .dataframe thead th {\n",
       "        text-align: right;\n",
       "    }\n",
       "</style>\n",
       "<table border=\"1\" class=\"dataframe\">\n",
       "  <thead>\n",
       "    <tr style=\"text-align: right;\">\n",
       "      <th></th>\n",
       "      <th>device_id</th>\n",
       "      <th>datetime</th>\n",
       "      <th>address_ip</th>\n",
       "      <th>address_port</th>\n",
       "      <th>original_message_id</th>\n",
       "      <th>raw_message</th>\n",
       "    </tr>\n",
       "  </thead>\n",
       "  <tbody>\n",
       "    <tr>\n",
       "      <th>15299</th>\n",
       "      <td>0001</td>\n",
       "      <td>1550067706</td>\n",
       "      <td>172.19.0.16</td>\n",
       "      <td>4007</td>\n",
       "      <td>1550071306082-0</td>\n",
       "      <td>A,5$1.31%8308666&amp;6666@7,*N,4.31572083@3333334,...</td>\n",
       "    </tr>\n",
       "    <tr>\n",
       "      <th>19801</th>\n",
       "      <td>st-1a2090</td>\n",
       "      <td>1550051935</td>\n",
       "      <td>172.23.0.1</td>\n",
       "      <td>4007</td>\n",
       "      <td>1550055535567-1</td>\n",
       "      <td>A,5$1.90%25965,N&amp;,5.5@41*472,E,2.98,6@4.79,130...</td>\n",
       "    </tr>\n",
       "    <tr>\n",
       "      <th>22300</th>\n",
       "      <td>st-1a2090</td>\n",
       "      <td>1550069124</td>\n",
       "      <td>172.24.0.1</td>\n",
       "      <td>4007</td>\n",
       "      <td>1550072724767-0</td>\n",
       "      <td>A,51.81206783333333,N,4.8768365,E,8.77,223.24,...</td>\n",
       "    </tr>\n",
       "    <tr>\n",
       "      <th>15143</th>\n",
       "      <td>st-1a2090</td>\n",
       "      <td>1550056562</td>\n",
       "      <td>172.23.0.1</td>\n",
       "      <td>4007</td>\n",
       "      <td>1550060162902-0</td>\n",
       "      <td>A,51.90100666666667,N,5.541864,E,0.04,306.32,1...</td>\n",
       "    </tr>\n",
       "    <tr>\n",
       "      <th>1971</th>\n",
       "      <td>st-1a2090</td>\n",
       "      <td>1550079538</td>\n",
       "      <td>172.24.0.1</td>\n",
       "      <td>4007</td>\n",
       "      <td>1550083138847-0</td>\n",
       "      <td>A,51.69041966666666,N,4.4091,E,0.01,4.81,13021...</td>\n",
       "    </tr>\n",
       "  </tbody>\n",
       "</table>\n",
       "</div>"
      ],
      "text/plain": [
       "       device_id    datetime   address_ip  address_port original_message_id  \\\n",
       "15299       0001  1550067706  172.19.0.16          4007     1550071306082-0   \n",
       "19801  st-1a2090  1550051935   172.23.0.1          4007     1550055535567-1   \n",
       "22300  st-1a2090  1550069124   172.24.0.1          4007     1550072724767-0   \n",
       "15143  st-1a2090  1550056562   172.23.0.1          4007     1550060162902-0   \n",
       "1971   st-1a2090  1550079538   172.24.0.1          4007     1550083138847-0   \n",
       "\n",
       "                                             raw_message  \n",
       "15299  A,5$1.31%8308666&6666@7,*N,4.31572083@3333334,...  \n",
       "19801  A,5$1.90%25965,N&,5.5@41*472,E,2.98,6@4.79,130...  \n",
       "22300  A,51.81206783333333,N,4.8768365,E,8.77,223.24,...  \n",
       "15143  A,51.90100666666667,N,5.541864,E,0.04,306.32,1...  \n",
       "1971   A,51.69041966666666,N,4.4091,E,0.01,4.81,13021...  "
      ]
     },
     "execution_count": 9,
     "metadata": {},
     "output_type": "execute_result"
    }
   ],
   "source": [
    "df.sample(5)"
   ]
  },
  {
   "cell_type": "code",
   "execution_count": 10,
   "id": "1642c617-ced3-45e4-a6df-6761fb03d7cd",
   "metadata": {},
   "outputs": [
    {
     "data": {
      "text/plain": [
       "device_id              0\n",
       "datetime               0\n",
       "address_ip             0\n",
       "address_port           0\n",
       "original_message_id    0\n",
       "raw_message            0\n",
       "dtype: int64"
      ]
     },
     "execution_count": 10,
     "metadata": {},
     "output_type": "execute_result"
    }
   ],
   "source": [
    "df.isnull().sum()"
   ]
  },
  {
   "cell_type": "code",
   "execution_count": 11,
   "id": "be967d17-5e49-44d9-91b9-6adc76381389",
   "metadata": {},
   "outputs": [
    {
     "data": {
      "text/plain": [
       "device_id                  2\n",
       "datetime               14984\n",
       "address_ip                12\n",
       "address_port               1\n",
       "original_message_id    29047\n",
       "raw_message            25950\n",
       "dtype: int64"
      ]
     },
     "execution_count": 11,
     "metadata": {},
     "output_type": "execute_result"
    }
   ],
   "source": [
    "df.nunique()"
   ]
  },
  {
   "cell_type": "code",
   "execution_count": 12,
   "id": "ee500f00-257a-4106-b353-97206925e05f",
   "metadata": {},
   "outputs": [
    {
     "data": {
      "text/plain": [
       "29052"
      ]
     },
     "execution_count": 12,
     "metadata": {},
     "output_type": "execute_result"
    }
   ],
   "source": [
    "len(df)"
   ]
  },
  {
   "cell_type": "markdown",
   "id": "eb1d6951-e894-4cbc-bf2f-19297e27c2ee",
   "metadata": {},
   "source": [
    "## Feature extraction"
   ]
  },
  {
   "cell_type": "code",
   "execution_count": 14,
   "id": "5a43fad7-294a-4fb6-8da4-d80f35be1cf9",
   "metadata": {},
   "outputs": [],
   "source": [
    "def unix_to_human_readable(unix_timestamp, format='%Y-%m-%d %H:%M:%S'):\n",
    "    try:\n",
    "        dt = datetime.utcfromtimestamp(unix_timestamp)\n",
    "        date = dt.strftime(format)\n",
    "        return date\n",
    "    except (TypeError, ValueError) as e:\n",
    "        print(f\"{e}\")\n",
    "        return f\"Invalid timestamp: {e}\""
   ]
  },
  {
   "cell_type": "code",
   "execution_count": 15,
   "id": "d3a95629-8950-4c7a-855b-560dbe94422d",
   "metadata": {},
   "outputs": [],
   "source": [
    "def clean_message(raw_message):\n",
    "    # Allow numbers, letters, and specific symbols (.,-)\n",
    "    clean_message = re.sub(r'[^A-Za-z0-9.,-]', '', raw_message)\n",
    "    return clean_message"
   ]
  },
  {
   "cell_type": "code",
   "execution_count": 16,
   "id": "573f91e6-25b0-467b-94d5-294af84f84ae",
   "metadata": {},
   "outputs": [
    {
     "name": "stderr",
     "output_type": "stream",
     "text": [
      "C:\\Users\\adir7\\AppData\\Local\\Temp\\ipykernel_9404\\537838.py:3: DeprecationWarning: datetime.datetime.utcfromtimestamp() is deprecated and scheduled for removal in a future version. Use timezone-aware objects to represent datetimes in UTC: datetime.datetime.fromtimestamp(timestamp, datetime.UTC).\n",
      "  dt = datetime.utcfromtimestamp(unix_timestamp)\n",
      "C:\\Users\\adir7\\AppData\\Local\\Temp\\ipykernel_9404\\537838.py:3: DeprecationWarning: datetime.datetime.utcfromtimestamp() is deprecated and scheduled for removal in a future version. Use timezone-aware objects to represent datetimes in UTC: datetime.datetime.fromtimestamp(timestamp, datetime.UTC).\n",
      "  dt = datetime.utcfromtimestamp(unix_timestamp)\n"
     ]
    }
   ],
   "source": [
    "for index, row in df.iterrows():\n",
    "    timestamp = unix_to_human_readable(row['datetime'])\n",
    "    df.at[index, 'timestamp'] = timestamp\n",
    "    raw_message = row['raw_message']\n",
    "    clean_raw_message = clean_message(raw_message)\n",
    "    split_raw_message = clean_raw_message.split(',')\n",
    "    df.at[index, 'status'] = split_raw_message[0]\n",
    "    df.at[index, 'lat'] = split_raw_message[1]\n",
    "    df.at[index, 'lat_dir'] = split_raw_message[2]\n",
    "    df.at[index, 'lon'] = split_raw_message[3]\n",
    "    df.at[index, 'lon_dir'] = split_raw_message[4]\n",
    "    df.at[index, 'speed (knots)'] = split_raw_message[5]\n",
    "    df.at[index, 'course'] = split_raw_message[6]\n",
    "    df.at[index, 'datestamp'] = split_raw_message[7]\n",
    "    df.at[index, 'dilution'] = split_raw_message[8]\n",
    "    df.at[index, 'dilution_dir'] = split_raw_message[9]"
   ]
  },
  {
   "cell_type": "markdown",
   "id": "d5d07e6d-dcee-4ee9-b004-8cb3ae53f011",
   "metadata": {},
   "source": [
    "## Cleaning"
   ]
  },
  {
   "cell_type": "code",
   "execution_count": 18,
   "id": "f97539a7-6f1a-4834-8fc5-ee545cd6f170",
   "metadata": {},
   "outputs": [],
   "source": [
    "# Drop rows where status is \"V\" for invalied messages\n",
    "df = df[df['status'] != 'V']"
   ]
  },
  {
   "cell_type": "code",
   "execution_count": 19,
   "id": "837a2e78-b06a-4a3c-b8d3-e5c734ddd945",
   "metadata": {},
   "outputs": [],
   "source": [
    "# # Assuming df is your DataFrame\n",
    "# df['speed (knots)'] = pd.to_numeric(df['speed (knots)'], errors='coerce')\n",
    "# df['lat'] = pd.to_numeric(df['lat'], errors='coerce')\n",
    "# df['lon'] = pd.to_numeric(df['lon'], errors='coerce')"
   ]
  },
  {
   "cell_type": "code",
   "execution_count": 20,
   "id": "e4ad3a7f-fca8-4923-814f-61a115aac5ac",
   "metadata": {},
   "outputs": [],
   "source": [
    "# Convert columns to numeric, coercing errors to NaN\n",
    "df['speed (knots)'] = pd.to_numeric(df['speed (knots)'], errors='coerce')\n",
    "df['lat'] = pd.to_numeric(df['lat'], errors='coerce')\n",
    "df['lon'] = pd.to_numeric(df['lon'], errors='coerce')\n",
    "\n",
    "# Drop rows where any of these columns have NaN (invalid values)\n",
    "df = df.dropna(subset=['speed (knots)', 'lat', 'lon'])"
   ]
  },
  {
   "cell_type": "markdown",
   "id": "96520d9a-6909-479b-af9c-3b02b40463f9",
   "metadata": {},
   "source": [
    "## Validating"
   ]
  },
  {
   "cell_type": "code",
   "execution_count": 22,
   "id": "e387d379-8d24-4af9-97f4-430c40c5da92",
   "metadata": {},
   "outputs": [
    {
     "name": "stdout",
     "output_type": "stream",
     "text": [
      "{'A'}\n"
     ]
    }
   ],
   "source": [
    "statuses = set(df['status'])\n",
    "print(statuses)"
   ]
  },
  {
   "cell_type": "code",
   "execution_count": 23,
   "id": "0d8968b8-22c6-47bb-86c9-418b0c459af3",
   "metadata": {},
   "outputs": [
    {
     "name": "stdout",
     "output_type": "stream",
     "text": [
      "Empty DataFrame\n",
      "Columns: [device_id, datetime, address_ip, address_port, original_message_id, raw_message, timestamp, status, lat, lat_dir, lon, lon_dir, speed (knots), course, datestamp, dilution, dilution_dir]\n",
      "Index: []\n"
     ]
    }
   ],
   "source": [
    "# Find rows where both device_id and original_message_id are duplicated (not allowed)\n",
    "duplicates = df[df.duplicated(subset=['device_id', 'original_message_id'], keep=False)]\n",
    "\n",
    "print(duplicates)"
   ]
  },
  {
   "cell_type": "code",
   "execution_count": 24,
   "id": "204879a0-34fe-48f4-bcf1-49b918ad302d",
   "metadata": {},
   "outputs": [
    {
     "data": {
      "text/plain": [
       "29016"
      ]
     },
     "execution_count": 24,
     "metadata": {},
     "output_type": "execute_result"
    }
   ],
   "source": [
    "len(df)"
   ]
  },
  {
   "cell_type": "code",
   "execution_count": 25,
   "id": "3b40cda3-611e-4c80-8d25-5adaf20532b6",
   "metadata": {},
   "outputs": [],
   "source": [
    "df.to_csv('cleaned_messages_data.csv', index=False)"
   ]
  }
 ],
 "metadata": {
  "kernelspec": {
   "display_name": "Python 3 (ipykernel)",
   "language": "python",
   "name": "python3"
  },
  "language_info": {
   "codemirror_mode": {
    "name": "ipython",
    "version": 3
   },
   "file_extension": ".py",
   "mimetype": "text/x-python",
   "name": "python",
   "nbconvert_exporter": "python",
   "pygments_lexer": "ipython3",
   "version": "3.12.4"
  }
 },
 "nbformat": 4,
 "nbformat_minor": 5
}
